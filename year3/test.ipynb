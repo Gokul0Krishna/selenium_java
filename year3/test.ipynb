{
 "cells": [
  {
   "cell_type": "code",
   "execution_count": 56,
   "id": "247157be",
   "metadata": {},
   "outputs": [],
   "source": [
    "import pandas as pd\n",
    "import numpy as np\n",
    "from sklearn.preprocessing import LabelEncoder\n",
    "from sklearn.model_selection import train_test_split\n",
    "from torch.utils.data import Dataset,DataLoader\n",
    "import torch\n",
    "import torch.nn as nn\n",
    "import torch.optim as optim\n",
    "from sklearn.metrics import mean_absolute_error\n",
    "\n",
    "lc=LabelEncoder()"
   ]
  },
  {
   "cell_type": "code",
   "execution_count": 3,
   "id": "0e642214",
   "metadata": {},
   "outputs": [
    {
     "data": {
      "application/vnd.microsoft.datawrangler.viewer.v0+json": {
       "columns": [
        {
         "name": "index",
         "rawType": "int64",
         "type": "integer"
        },
        {
         "name": "Hours Studied",
         "rawType": "int64",
         "type": "integer"
        },
        {
         "name": "Previous Scores",
         "rawType": "int64",
         "type": "integer"
        },
        {
         "name": "Extracurricular Activities",
         "rawType": "object",
         "type": "string"
        },
        {
         "name": "Sleep Hours",
         "rawType": "int64",
         "type": "integer"
        },
        {
         "name": "Sample Question Papers Practiced",
         "rawType": "int64",
         "type": "integer"
        },
        {
         "name": "Performance Index",
         "rawType": "float64",
         "type": "float"
        }
       ],
       "ref": "732c3686-e0c9-4966-a860-8cd50ac44e44",
       "rows": [
        [
         "0",
         "7",
         "99",
         "Yes",
         "9",
         "1",
         "91.0"
        ],
        [
         "1",
         "4",
         "82",
         "No",
         "4",
         "2",
         "65.0"
        ],
        [
         "2",
         "8",
         "51",
         "Yes",
         "7",
         "2",
         "45.0"
        ],
        [
         "3",
         "5",
         "52",
         "Yes",
         "5",
         "2",
         "36.0"
        ],
        [
         "4",
         "7",
         "75",
         "No",
         "8",
         "5",
         "66.0"
        ]
       ],
       "shape": {
        "columns": 6,
        "rows": 5
       }
      },
      "text/html": [
       "<div>\n",
       "<style scoped>\n",
       "    .dataframe tbody tr th:only-of-type {\n",
       "        vertical-align: middle;\n",
       "    }\n",
       "\n",
       "    .dataframe tbody tr th {\n",
       "        vertical-align: top;\n",
       "    }\n",
       "\n",
       "    .dataframe thead th {\n",
       "        text-align: right;\n",
       "    }\n",
       "</style>\n",
       "<table border=\"1\" class=\"dataframe\">\n",
       "  <thead>\n",
       "    <tr style=\"text-align: right;\">\n",
       "      <th></th>\n",
       "      <th>Hours Studied</th>\n",
       "      <th>Previous Scores</th>\n",
       "      <th>Extracurricular Activities</th>\n",
       "      <th>Sleep Hours</th>\n",
       "      <th>Sample Question Papers Practiced</th>\n",
       "      <th>Performance Index</th>\n",
       "    </tr>\n",
       "  </thead>\n",
       "  <tbody>\n",
       "    <tr>\n",
       "      <th>0</th>\n",
       "      <td>7</td>\n",
       "      <td>99</td>\n",
       "      <td>Yes</td>\n",
       "      <td>9</td>\n",
       "      <td>1</td>\n",
       "      <td>91.0</td>\n",
       "    </tr>\n",
       "    <tr>\n",
       "      <th>1</th>\n",
       "      <td>4</td>\n",
       "      <td>82</td>\n",
       "      <td>No</td>\n",
       "      <td>4</td>\n",
       "      <td>2</td>\n",
       "      <td>65.0</td>\n",
       "    </tr>\n",
       "    <tr>\n",
       "      <th>2</th>\n",
       "      <td>8</td>\n",
       "      <td>51</td>\n",
       "      <td>Yes</td>\n",
       "      <td>7</td>\n",
       "      <td>2</td>\n",
       "      <td>45.0</td>\n",
       "    </tr>\n",
       "    <tr>\n",
       "      <th>3</th>\n",
       "      <td>5</td>\n",
       "      <td>52</td>\n",
       "      <td>Yes</td>\n",
       "      <td>5</td>\n",
       "      <td>2</td>\n",
       "      <td>36.0</td>\n",
       "    </tr>\n",
       "    <tr>\n",
       "      <th>4</th>\n",
       "      <td>7</td>\n",
       "      <td>75</td>\n",
       "      <td>No</td>\n",
       "      <td>8</td>\n",
       "      <td>5</td>\n",
       "      <td>66.0</td>\n",
       "    </tr>\n",
       "  </tbody>\n",
       "</table>\n",
       "</div>"
      ],
      "text/plain": [
       "   Hours Studied  Previous Scores Extracurricular Activities  Sleep Hours  \\\n",
       "0              7               99                        Yes            9   \n",
       "1              4               82                         No            4   \n",
       "2              8               51                        Yes            7   \n",
       "3              5               52                        Yes            5   \n",
       "4              7               75                         No            8   \n",
       "\n",
       "   Sample Question Papers Practiced  Performance Index  \n",
       "0                                 1               91.0  \n",
       "1                                 2               65.0  \n",
       "2                                 2               45.0  \n",
       "3                                 2               36.0  \n",
       "4                                 5               66.0  "
      ]
     },
     "execution_count": 3,
     "metadata": {},
     "output_type": "execute_result"
    }
   ],
   "source": [
    "df= pd.read_csv('Student_Performance.csv')\n",
    "df[:5]"
   ]
  },
  {
   "cell_type": "code",
   "execution_count": 4,
   "id": "09cc73e9",
   "metadata": {},
   "outputs": [
    {
     "data": {
      "application/vnd.microsoft.datawrangler.viewer.v0+json": {
       "columns": [
        {
         "name": "index",
         "rawType": "int64",
         "type": "integer"
        },
        {
         "name": "Hours Studied",
         "rawType": "int64",
         "type": "integer"
        },
        {
         "name": "Previous Scores",
         "rawType": "int64",
         "type": "integer"
        },
        {
         "name": "Sleep Hours",
         "rawType": "int64",
         "type": "integer"
        },
        {
         "name": "Sample Question Papers Practiced",
         "rawType": "int64",
         "type": "integer"
        },
        {
         "name": "Extracurricular Activities",
         "rawType": "int64",
         "type": "integer"
        }
       ],
       "ref": "673b4b64-12d8-4b10-92bd-d89b35c8f3e3",
       "rows": [
        [
         "0",
         "7",
         "99",
         "9",
         "1",
         "1"
        ],
        [
         "1",
         "4",
         "82",
         "4",
         "2",
         "0"
        ],
        [
         "2",
         "8",
         "51",
         "7",
         "2",
         "1"
        ],
        [
         "3",
         "5",
         "52",
         "5",
         "2",
         "1"
        ],
        [
         "4",
         "7",
         "75",
         "8",
         "5",
         "0"
        ]
       ],
       "shape": {
        "columns": 5,
        "rows": 5
       }
      },
      "text/html": [
       "<div>\n",
       "<style scoped>\n",
       "    .dataframe tbody tr th:only-of-type {\n",
       "        vertical-align: middle;\n",
       "    }\n",
       "\n",
       "    .dataframe tbody tr th {\n",
       "        vertical-align: top;\n",
       "    }\n",
       "\n",
       "    .dataframe thead th {\n",
       "        text-align: right;\n",
       "    }\n",
       "</style>\n",
       "<table border=\"1\" class=\"dataframe\">\n",
       "  <thead>\n",
       "    <tr style=\"text-align: right;\">\n",
       "      <th></th>\n",
       "      <th>Hours Studied</th>\n",
       "      <th>Previous Scores</th>\n",
       "      <th>Sleep Hours</th>\n",
       "      <th>Sample Question Papers Practiced</th>\n",
       "      <th>Extracurricular Activities</th>\n",
       "    </tr>\n",
       "  </thead>\n",
       "  <tbody>\n",
       "    <tr>\n",
       "      <th>0</th>\n",
       "      <td>7</td>\n",
       "      <td>99</td>\n",
       "      <td>9</td>\n",
       "      <td>1</td>\n",
       "      <td>1</td>\n",
       "    </tr>\n",
       "    <tr>\n",
       "      <th>1</th>\n",
       "      <td>4</td>\n",
       "      <td>82</td>\n",
       "      <td>4</td>\n",
       "      <td>2</td>\n",
       "      <td>0</td>\n",
       "    </tr>\n",
       "    <tr>\n",
       "      <th>2</th>\n",
       "      <td>8</td>\n",
       "      <td>51</td>\n",
       "      <td>7</td>\n",
       "      <td>2</td>\n",
       "      <td>1</td>\n",
       "    </tr>\n",
       "    <tr>\n",
       "      <th>3</th>\n",
       "      <td>5</td>\n",
       "      <td>52</td>\n",
       "      <td>5</td>\n",
       "      <td>2</td>\n",
       "      <td>1</td>\n",
       "    </tr>\n",
       "    <tr>\n",
       "      <th>4</th>\n",
       "      <td>7</td>\n",
       "      <td>75</td>\n",
       "      <td>8</td>\n",
       "      <td>5</td>\n",
       "      <td>0</td>\n",
       "    </tr>\n",
       "  </tbody>\n",
       "</table>\n",
       "</div>"
      ],
      "text/plain": [
       "   Hours Studied  Previous Scores  Sleep Hours  \\\n",
       "0              7               99            9   \n",
       "1              4               82            4   \n",
       "2              8               51            7   \n",
       "3              5               52            5   \n",
       "4              7               75            8   \n",
       "\n",
       "   Sample Question Papers Practiced  Extracurricular Activities  \n",
       "0                                 1                           1  \n",
       "1                                 2                           0  \n",
       "2                                 2                           1  \n",
       "3                                 2                           1  \n",
       "4                                 5                           0  "
      ]
     },
     "execution_count": 4,
     "metadata": {},
     "output_type": "execute_result"
    }
   ],
   "source": [
    "y=df.iloc[:,-1]\n",
    "x=df.iloc[:,0:5]\n",
    "label = lc.fit_transform(df['Extracurricular Activities'])\n",
    "x.drop('Extracurricular Activities',axis=1,inplace=True)\n",
    "x['Extracurricular Activities']=list(label)\n",
    "x[:5]"
   ]
  },
  {
   "cell_type": "code",
   "execution_count": 7,
   "id": "2d1c7213",
   "metadata": {},
   "outputs": [],
   "source": [
    "Xtrain,Xtest,ytrain,ytest = train_test_split(np.array(x),np.array(y),test_size=0.2,random_state=42)\n",
    "Xtest,Xval,ytest,yval = train_test_split(Xtest,ytest,test_size=0.5,random_state=42)"
   ]
  },
  {
   "cell_type": "code",
   "execution_count": 8,
   "id": "af5ade2c",
   "metadata": {},
   "outputs": [],
   "source": [
    "class Customdataset(Dataset):\n",
    "    def __init__(self,a,b):\n",
    "        self.x=torch.tensor(a,dtype=torch.float32)\n",
    "        self.y=torch.tensor(b,dtype=torch.float32)\n",
    "\n",
    "    def __len__(self):\n",
    "        return len(self.x)\n",
    "    \n",
    "    def __getitem__(self, index):\n",
    "        return self.x[index],self.y[index]\n",
    "    \n",
    "traindataset=Customdataset(a=Xtrain,b=ytrain)\n",
    "valdataset=Customdataset(a=Xval,b=yval)\n",
    "testdataset=Customdataset(a=Xtest,b=ytest)\n",
    "\n",
    "traindl=DataLoader(traindataset,batch_size=16,shuffle=True)\n",
    "testdl=DataLoader(testdataset,batch_size=16,shuffle=True)\n",
    "valdl=DataLoader(valdataset,batch_size=16,shuffle=True)"
   ]
  },
  {
   "cell_type": "code",
   "execution_count": 53,
   "id": "3eadbc8f",
   "metadata": {},
   "outputs": [],
   "source": [
    "class regression(nn.Module):\n",
    "    def __init__(self):\n",
    "        super(regression,self).__init__()\n",
    "        self.Linear1=nn.Linear(x.shape[1],20)\n",
    "        self.Linear2=nn.Linear(20,1)\n",
    "\n",
    "    def forward(self,x):\n",
    "        x=self.Linear1(x)\n",
    "        x=self.Linear2(x)\n",
    "        return x\n",
    "\n",
    "model=regression()\n",
    "optimizer = torch.optim.SGD(model.parameters(), lr=0.01)\n",
    "critetion=nn.MSELoss()"
   ]
  },
  {
   "cell_type": "code",
   "execution_count": 60,
   "id": "213b8766",
   "metadata": {},
   "outputs": [
    {
     "name": "stdout",
     "output_type": "stream",
     "text": [
      "tensor([[ 3., 90.,  8.,  3.,  1.],\n",
      "        [ 3., 66.,  6.,  7.,  1.],\n",
      "        [ 8., 90.,  9.,  5.,  0.],\n",
      "        [ 6., 94.,  6.,  4.,  0.],\n",
      "        [ 6., 49.,  5.,  1.,  1.],\n",
      "        [ 4., 43.,  8.,  5.,  0.],\n",
      "        [ 7., 94.,  4.,  4.,  1.],\n",
      "        [ 9., 77.,  6.,  1.,  0.],\n",
      "        [ 9., 42.,  9.,  3.,  1.],\n",
      "        [ 2., 98.,  5.,  3.,  0.],\n",
      "        [ 1., 93.,  6.,  2.,  0.],\n",
      "        [ 4., 44.,  6.,  8.,  1.],\n",
      "        [ 9., 63.,  4.,  4.,  1.],\n",
      "        [ 6., 71.,  4.,  1.,  0.],\n",
      "        [ 2., 80.,  9.,  5.,  0.],\n",
      "        [ 7., 87.,  7.,  8.,  0.]])\n",
      "tensor([[nan],\n",
      "        [nan],\n",
      "        [nan],\n",
      "        [nan],\n",
      "        [nan],\n",
      "        [nan],\n",
      "        [nan],\n",
      "        [nan],\n",
      "        [nan],\n",
      "        [nan],\n",
      "        [nan],\n",
      "        [nan],\n",
      "        [nan],\n",
      "        [nan],\n",
      "        [nan],\n",
      "        [nan]], grad_fn=<AddmmBackward0>)\n",
      "tensor([70., 48., 84., 83., 35., 27., 84., 68., 37., 71., 65., 24., 59., 59.,\n",
      "        55., 76.])\n"
     ]
    }
   ],
   "source": [
    "for i in range(3):\n",
    "    l1,l2=0,0\n",
    "    for values,labels in traindl:\n",
    "        ypred = model(values)\n",
    "        print(values)\n",
    "        print(ypred)\n",
    "        print(labels)\n",
    "        tloss = critetion(ypred,labels.unsqueeze(1))\n",
    "        optimizer.zero_grad()\n",
    "        tloss.backward()        \n",
    "        optimizer.step()\n",
    "        l1=labels.unsqueeze(1)\n",
    "        break\n",
    "    break\n",
    "    print(mean_absolute_error(l1,ypred.detach().numpy()))     \n",
    "    with torch.no_grad():\n",
    "        for values,labels in valdl:\n",
    "            ypred = model(values)\n",
    "            tloss = critetion(ypred,labels.unsqueeze(1))\n",
    "            l2=labels.unsqueeze(1)\n",
    "        print(mean_absolute_error(l1,ypred))\n",
    "    break\n",
    "                "
   ]
  }
 ],
 "metadata": {
  "kernelspec": {
   "display_name": "PyTorch",
   "language": "python",
   "name": "python3"
  },
  "language_info": {
   "codemirror_mode": {
    "name": "ipython",
    "version": 3
   },
   "file_extension": ".py",
   "mimetype": "text/x-python",
   "name": "python",
   "nbconvert_exporter": "python",
   "pygments_lexer": "ipython3",
   "version": "3.9.23"
  }
 },
 "nbformat": 4,
 "nbformat_minor": 5
}
